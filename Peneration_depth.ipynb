{
 "cells": [
  {
   "cell_type": "code",
   "execution_count": 1,
   "metadata": {
    "deletable": true,
    "editable": true
   },
   "outputs": [],
   "source": [
    "import numpy as np\n",
    "import matplotlib.pyplot as plt\n",
    "from pymcaspec import specfile\n",
    "\n",
    "%matplotlib widget"
   ]
  },
  {
   "cell_type": "markdown",
   "metadata": {
    "deletable": true,
    "editable": true
   },
   "source": [
    "## Proceedure for estimate penetration depth\n",
    "\n",
    "Take XAS measured in TEY on La_2CuO_4 from M.P.M. Dean et al., Nature Materials 12, 1019–1023 (2013) \n",
    "\n",
    "Compute XAS for La_2CuO_4 Density=7.0, Angle=90.deg using\n",
    "http://henke.lbl.gov/tmp/xray6982.dat\n",
    "\n",
    "The computed values are accurate for the pre- and post- edge values correctly, but does not account for the resonance.\n",
    "\n",
    "We, therefore, scale the pre and post edge of the experiment to the table values and read-off the values at the peak."
   ]
  },
  {
   "cell_type": "code",
   "execution_count": 2,
   "metadata": {
    "collapsed": false,
    "deletable": true,
    "editable": true,
    "jupyter": {
     "outputs_hidden": false
    }
   },
   "outputs": [
    {
     "data": {
      "application/vnd.jupyter.widget-view+json": {
       "model_id": "c52df62c86ae44f6a332d5d0ea1741db",
       "version_major": 2,
       "version_minor": 0
      },
      "text/plain": [
       "Canvas(toolbar=Toolbar(toolitems=[('Home', 'Reset original view', 'home', 'home'), ('Back', 'Back to previous …"
      ]
     },
     "metadata": {},
     "output_type": "display_data"
    },
    {
     "name": "stdout",
     "output_type": "stream",
     "text": [
      "Penetration depth at peak 238.7 nm\n"
     ]
    }
   ],
   "source": [
    "F = specfile(\"one_XAS_scan.spec\")\n",
    "S = F[595]\n",
    "\n",
    "E = S['ene_st']\n",
    "TEY = S['zratio']\n",
    "\n",
    "pre = 1/0.182946\n",
    "post = 1/ 0.164596\n",
    "\n",
    "x = E\n",
    "y = TEY - np.min(TEY)\n",
    "y = y / np.mean(y[-1:]) * (post-pre)\n",
    "mu = y + pre\n",
    "\n",
    "\n",
    "\n",
    "fig, ax = plt.subplots()\n",
    "art, *_ = ax.plot(x, mu, '-', alpha=0.5)\n",
    "ax.plot(x, mu, '.', color=art.get_color())\n",
    "ax.set_xlabel(\"Energy (eV)\")\n",
    "ax.set_ylabel(r\"$\\mu^{-1}$ (nm$^{-1}$)\")\n",
    "\n",
    "print(\"Penetration depth at peak {:.1f} nm\".format(1000/y.max()))"
   ]
  },
  {
   "cell_type": "markdown",
   "metadata": {},
   "source": [
    "## Estimate of core hole lifetime"
   ]
  },
  {
   "cell_type": "code",
   "execution_count": 3,
   "metadata": {},
   "outputs": [
    {
     "data": {
      "application/vnd.jupyter.widget-view+json": {
       "model_id": "0ce97f3bffbc454884e87c78bfb8960e",
       "version_major": 2,
       "version_minor": 0
      },
      "text/plain": [
       "Canvas(toolbar=Toolbar(toolitems=[('Home', 'Reset original view', 'home', 'home'), ('Back', 'Back to previous …"
      ]
     },
     "metadata": {},
     "output_type": "display_data"
    },
    {
     "name": "stdout",
     "output_type": "stream",
     "text": [
      "[[Model]]\n",
      "    (Model(lorentzian) + Model(constant))\n",
      "[[Fit Statistics]]\n",
      "    # fitting method   = leastsq\n",
      "    # function evals   = 54\n",
      "    # data points      = 45\n",
      "    # variables        = 4\n",
      "    chi-square         = 0.13092824\n",
      "    reduced chi-square = 0.00319337\n",
      "    Akaike info crit   = -254.789576\n",
      "    Bayesian info crit = -247.562926\n",
      "[[Variables]]\n",
      "    amplitude:  4.89198034 +/- 0.06854140 (1.40%) (init = 1)\n",
      "    center:     933.299413 +/- 0.00269276 (0.00%) (init = 933)\n",
      "    sigma:      0.37733195 +/- 0.00549841 (1.46%) (init = 1)\n",
      "    c:          5.59931704 +/- 0.01614723 (0.29%) (init = 6.7)\n",
      "    fwhm:       0.75466390 +/- 0.01099682 (1.46%) == '2.0000000*sigma'\n",
      "    height:     4.12677955 +/- 0.03060451 (0.74%) == '0.3183099*amplitude/max(2.220446049250313e-16, sigma)'\n",
      "[[Correlations]] (unreported correlations are < 0.100)\n",
      "    C(amplitude, sigma) =  0.866\n",
      "    C(amplitude, c)     = -0.849\n",
      "    C(sigma, c)         = -0.691\n"
     ]
    }
   ],
   "source": [
    "## fit main peak\n",
    "choose = np.logical_and(x>931, x<935)\n",
    "xx = x[choose]\n",
    "yy = mu[choose]\n",
    "\n",
    "fig, ax = plt.subplots()\n",
    "\n",
    "from lmfit.models import LorentzianModel, ConstantModel\n",
    "\n",
    "model = LorentzianModel() + ConstantModel()\n",
    "params = model.make_params(c=6.7, center=933)\n",
    "result = model.fit(yy, x=xx, params=params)\n",
    "\n",
    "result.plot_fit(ax=ax)\n",
    "\n",
    "print(result.fit_report())"
   ]
  },
  {
   "cell_type": "code",
   "execution_count": 4,
   "metadata": {},
   "outputs": [
    {
     "name": "stdout",
     "output_type": "stream",
     "text": [
      "Half-width at half maximum is 0.38 eV\n"
     ]
    }
   ],
   "source": [
    "print(f\"Half-width at half maximum is {result.best_values['sigma']:.2f} eV\")"
   ]
  },
  {
   "cell_type": "markdown",
   "metadata": {},
   "source": [
    "## Self absorption / saturation effects in TFY\n",
    "Measuring XAS with TFY is subject to self absorption / saturation effects. Here we present a simple method to correct this."
   ]
  },
  {
   "cell_type": "markdown",
   "metadata": {},
   "source": [
    "Using $\\alpha$ and $\\beta$ as incident and scattered x-ray angles w.r.t surface, and taking eq. 2 from [here](https://markdean.info/assets/pdf/Dashwood2021probing_supp.pdf) assuming that the x-ray come out at energies below the edge, we arrive at a crude esimate for the self absorption corrected data.\n",
    "\n"
   ]
  },
  {
   "cell_type": "code",
   "execution_count": 5,
   "metadata": {},
   "outputs": [
    {
     "data": {
      "application/vnd.jupyter.widget-view+json": {
       "model_id": "b1dfb154b8014a359017e2b6fd2834f7",
       "version_major": 2,
       "version_minor": 0
      },
      "text/plain": [
       "Canvas(toolbar=Toolbar(toolitems=[('Home', 'Reset original view', 'home', 'home'), ('Back', 'Back to previous …"
      ]
     },
     "metadata": {},
     "output_type": "display_data"
    },
    {
     "data": {
      "text/plain": [
       "<matplotlib.legend.Legend at 0x7f42ffd6eca0>"
      ]
     },
     "execution_count": 5,
     "metadata": {},
     "output_type": "execute_result"
    }
   ],
   "source": [
    "TFY = mu # Take fake data from here\n",
    "alpha = 30*np.pi/180\n",
    "beta = 30*np.pi/180\n",
    "\n",
    "def sind(theta):\n",
    "    return np.sin(theta*np.pi/180)\n",
    "\n",
    "angular_ratio = sind(alpha)/sind(beta)\n",
    "\n",
    "C = 1/(1 + angular_ratio*mu/pre)\n",
    "\n",
    "mu_corr = TFY/C\n",
    "mu_corr -= mu_corr.min()\n",
    "mu_corr = mu_corr / mu_corr[-1] * (post-pre)\n",
    "mu_corr = mu_corr + pre\n",
    "\n",
    "\n",
    "fig, ax = plt.subplots()\n",
    "ax.plot(x, mu, label='orignal')\n",
    "ax.plot(x, mu_corr, label='self absorption correction')\n",
    "ax.legend()"
   ]
  },
  {
   "cell_type": "code",
   "execution_count": 6,
   "metadata": {},
   "outputs": [
    {
     "data": {
      "text/latex": [
       "$\\displaystyle pre + \\frac{\\left(post - pre\\right) \\left(\\mu \\left(\\frac{\\mu \\sin{\\left(\\alpha \\right)}}{\\sin{\\left(\\beta \\right)}} + 1\\right) - pre\\right)}{post}$"
      ],
      "text/plain": [
       "pre + (post - pre)*(\\mu*(\\mu*sin(\\alpha)/sin(\\beta) + 1) - pre)/post"
      ]
     },
     "execution_count": 6,
     "metadata": {},
     "output_type": "execute_result"
    }
   ],
   "source": [
    "import sympy\n",
    "from sympy import cos, sin\n",
    "\n",
    "mu, alpha, beta, pre, post = sympy.symbols(r'\\mu \\alpha \\beta pre post')\n",
    "\n",
    "mu_c = (mu*(1 + mu*sin(alpha)/sin(beta)) - pre)*(post-pre)/post + pre\n",
    "mu_c.simplify()"
   ]
  }
 ],
 "metadata": {
  "kernelspec": {
   "display_name": "Python 3",
   "language": "python",
   "name": "python3"
  },
  "language_info": {
   "codemirror_mode": {
    "name": "ipython",
    "version": 3
   },
   "file_extension": ".py",
   "mimetype": "text/x-python",
   "name": "python",
   "nbconvert_exporter": "python",
   "pygments_lexer": "ipython3",
   "version": "3.8.5"
  }
 },
 "nbformat": 4,
 "nbformat_minor": 4
}
