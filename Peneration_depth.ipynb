{
 "cells": [
  {
   "cell_type": "code",
   "execution_count": 1,
   "metadata": {},
   "outputs": [],
   "source": [
    "import numpy as np\n",
    "import matplotlib.pyplot as plt\n",
    "from PyMca5 import specfile  \n",
    "\n",
    "%matplotlib ipympl"
   ]
  },
  {
   "cell_type": "markdown",
   "metadata": {},
   "source": [
    "## Proceedure\n",
    "\n",
    "XAS measured in TEY on La2CuO4 from M.P.M. Dean et al., Nature Materials 12, 1019–1023 (2013) \n",
    "\n",
    "Compute XAS for La2CuO4 Density=6.631, Angle=90.deg using\n",
    "http://henke.lbl.gov/tmp/xray6982.dat\n",
    "\n",
    "Scale the pre and post edge to the table values and read-off the values at the peak"
   ]
  },
  {
   "cell_type": "code",
   "execution_count": 2,
   "metadata": {},
   "outputs": [
    {
     "data": {
      "application/vnd.jupyter.widget-view+json": {
       "model_id": "cec42113e7dd47398cb0508e4d1507b8",
       "version_major": 2,
       "version_minor": 0
      },
      "text/plain": [
       "FigureCanvasNbAgg()"
      ]
     },
     "metadata": {},
     "output_type": "display_data"
    },
    {
     "name": "stdout",
     "output_type": "stream",
     "text": [
      "Penetration depth at peak 83.7 nm\n"
     ]
    }
   ],
   "source": [
    "myspecfile = specfile.Specfile(\"axes_121031_00.spec\")\n",
    "scan = myspecfile[595]\n",
    "\n",
    "def get_data(scan, get_col):\n",
    "    choose_cols = [i for i, col in enumerate(scan.alllabels()) if col == get_col]\n",
    "    if len(choose_cols) == 1:\n",
    "        col_ind = choose_cols[0]\n",
    "        return scan.data()[col_ind,:]\n",
    "    else:\n",
    "        print(\"{} not found\\nAvailable columns are {}\".format(get_col, scan.alllabels()))\n",
    "\n",
    "E = get_data(scan, 'ene_st')\n",
    "TEY = get_data(scan, 'zratio')\n",
    "\n",
    "\n",
    "pre = 1/0.197432\n",
    "post = 1/ 0.159572\n",
    "\n",
    "x = E\n",
    "y = TEY - min(TEY)\n",
    "y = y / np.mean(y[-1:]) * (post-pre)\n",
    "y = y + pre\n",
    "\n",
    "\n",
    "fig, ax = plt.subplots()\n",
    "art, *_ = ax.plot(x, y, '-', alpha=0.5)\n",
    "ax.plot(x, y, '.', color=art.get_color())\n",
    "ax.set_xlabel(\"Energy (eV)\")\n",
    "ax.set_ylabel(\"$\\mu^{-1}$ (nm$^{-1$})\")\n",
    "\n",
    "print(\"Penetration depth at peak {:.1f} nm\".format(1000/y.max()))"
   ]
  },
  {
   "cell_type": "code",
   "execution_count": null,
   "metadata": {},
   "outputs": [],
   "source": []
  }
 ],
 "metadata": {
  "kernelspec": {
   "display_name": "Python 3",
   "language": "python",
   "name": "python3"
  },
  "language_info": {
   "codemirror_mode": {
    "name": "ipython",
    "version": 3
   },
   "file_extension": ".py",
   "mimetype": "text/x-python",
   "name": "python",
   "nbconvert_exporter": "python",
   "pygments_lexer": "ipython3",
   "version": "3.6.1"
  }
 },
 "nbformat": 4,
 "nbformat_minor": 2
}
